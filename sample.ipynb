{
  "nbformat": 4,
  "nbformat_minor": 0,
  "metadata": {
    "colab": {
      "provenance": [],
      "authorship_tag": "ABX9TyPX40p1R9pxedL4dmo4kuRC",
      "include_colab_link": true
    },
    "kernelspec": {
      "name": "python3",
      "display_name": "Python 3"
    },
    "language_info": {
      "name": "python"
    }
  },
  "cells": [
    {
      "cell_type": "markdown",
      "metadata": {
        "id": "view-in-github",
        "colab_type": "text"
      },
      "source": [
        "<a href=\"https://colab.research.google.com/github/2403A51355/sample/blob/main/sample.ipynb\" target=\"_parent\"><img src=\"https://colab.research.google.com/assets/colab-badge.svg\" alt=\"Open In Colab\"/></a>"
      ]
    },
    {
      "cell_type": "code",
      "source": [
        "a=(\"gayathri\",95,\"CSE\")\n",
        "print(a)"
      ],
      "metadata": {
        "colab": {
          "base_uri": "https://localhost:8080/"
        },
        "id": "ORyy0_uJW6FB",
        "outputId": "3fdc314d-3b3b-45ff-b407-fd45e800af64"
      },
      "execution_count": 6,
      "outputs": [
        {
          "output_type": "stream",
          "name": "stdout",
          "text": [
            "('gayathri', 95, 'CSE')\n"
          ]
        }
      ]
    },
    {
      "cell_type": "code",
      "source": [
        "a=[\"gayathri\",95,\"CSE\"]\n",
        "print(\"list\",a)\n"
      ],
      "metadata": {
        "colab": {
          "base_uri": "https://localhost:8080/"
        },
        "id": "KAGm80szXGKU",
        "outputId": "ebb5b6ef-6588-45dd-f8ec-d258b81e4d93"
      },
      "execution_count": 7,
      "outputs": [
        {
          "output_type": "stream",
          "name": "stdout",
          "text": [
            "list ['gayathri', 95, 'CSE']\n"
          ]
        }
      ]
    },
    {
      "cell_type": "code",
      "source": [
        "\n",
        "my_list = [1, 2, 3, \"apple\", \"banana\"]\n",
        "print(\"list\",my_list)\n",
        "\n",
        "my_tuple = (10, 20, \"orange\", \"grape\")\n",
        "print(\"tuple\",my_tuple)\n",
        "\n",
        "my_dict = {\"name\": \"Alice\", \"age\": 30, \"city\": \"New York\"}\n",
        "print(\"dict\",my_dict)"
      ],
      "metadata": {
        "colab": {
          "base_uri": "https://localhost:8080/"
        },
        "id": "wvX2cLAWX26a",
        "outputId": "63829314-5532-427c-f425-2b832b9efff6"
      },
      "execution_count": 8,
      "outputs": [
        {
          "output_type": "stream",
          "name": "stdout",
          "text": [
            "list [1, 2, 3, 'apple', 'banana']\n",
            "tuple (10, 20, 'orange', 'grape')\n",
            "dict {'name': 'Alice', 'age': 30, 'city': 'New York'}\n"
          ]
        }
      ]
    }
  ]
}